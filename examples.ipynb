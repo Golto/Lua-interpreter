{
 "cells": [
  {
   "cell_type": "code",
   "execution_count": 1,
   "metadata": {},
   "outputs": [],
   "source": [
    "from lua.interpreter import Interpreter, Library\n",
    "\n",
    "def add_five(n):\n",
    "    return n + 5\n",
    "\n",
    "libraries = [\n",
    "    Library(\n",
    "        name=\"custom\",\n",
    "        attributes={\n",
    "            \"version\": \"1.2.3\",\n",
    "            \"doc\": \"A custom Library\"\n",
    "        },\n",
    "        methods={\n",
    "            \"print_python\": print,\n",
    "            \"add_five\": add_five\n",
    "        }\n",
    "    )\n",
    "]\n",
    "\n",
    "interpreter = Interpreter(libraries)"
   ]
  },
  {
   "cell_type": "code",
   "execution_count": 2,
   "metadata": {},
   "outputs": [],
   "source": [
    "CODE_PRIMES = \"\"\"\n",
    "function find_primes_up_to(n)\n",
    "    if n < 2 then\n",
    "        return {}\n",
    "    end\n",
    "\n",
    "    -- Initialise un tableau pour marquer les nombres\n",
    "    local is_prime = {}\n",
    "    for i = 2, n do\n",
    "        is_prime[i] = true\n",
    "    end\n",
    "\n",
    "    -- Appliquer le crible d'Ératosthène\n",
    "    for i = 2, math.sqrt(n) do\n",
    "        if is_prime[i] then\n",
    "            for j = i * i, n, i do\n",
    "                is_prime[j] = false\n",
    "            end\n",
    "        end\n",
    "    end\n",
    "\n",
    "    -- Collecter tous les nombres premiers\n",
    "    local primes = {}\n",
    "    for i = 2, n do\n",
    "        if is_prime[i] then\n",
    "            table.insert(primes, i)\n",
    "        end\n",
    "    end\n",
    "\n",
    "    return primes\n",
    "end\n",
    "\n",
    "-- Test de la fonction\n",
    "local n = 50\n",
    "local primes = find_primes_up_to(n)\n",
    "print(\"Nombres premiers jusqu'à \" .. n .. \":\")\n",
    "for _, prime in ipairs(primes) do\n",
    "    print(prime)\n",
    "end\n",
    "\n",
    "\"\"\""
   ]
  },
  {
   "cell_type": "code",
   "execution_count": 3,
   "metadata": {},
   "outputs": [
    {
     "name": "stdout",
     "output_type": "stream",
     "text": [
      "The name is John\n"
     ]
    }
   ],
   "source": [
    "code = \"\"\"\n",
    "local custom = require('custom')\n",
    "\n",
    "local name = \"John\"\n",
    "local number = 32\n",
    "\n",
    "print(\"New number is \" .. custom.add_five(number))\n",
    "\n",
    "custom.print_python(\"The name is \" .. name) -- print `name` python side\n",
    "\"\"\"\n",
    "\n",
    "result, success = interpreter.exec(code)"
   ]
  },
  {
   "cell_type": "code",
   "execution_count": 4,
   "metadata": {},
   "outputs": [
    {
     "name": "stdout",
     "output_type": "stream",
     "text": [
      "# Lua Console:\n",
      "```plaintext\n",
      "New number is 37\n",
      "\n",
      "```\n"
     ]
    }
   ],
   "source": [
    "print(\n",
    "    f\"\"\"# Lua Console:\n",
    "```plaintext\n",
    "{interpreter.logs}\n",
    "```\"\"\")"
   ]
  },
  {
   "cell_type": "code",
   "execution_count": 5,
   "metadata": {},
   "outputs": [
    {
     "name": "stdout",
     "output_type": "stream",
     "text": [
      "ipairs <function Functions.native_ipairs at 0x000001F907CD9C60>\n",
      "pairs <function Functions.native_pairs at 0x000001F907CD9D00>\n",
      "assert <function Functions.native_assert at 0x000001F907CD9DA0>\n",
      "error <function Functions.native_error at 0x000001F907CD9E40>\n",
      "next <function Functions.native_next at 0x000001F907CD9EE0>\n",
      "select <function Functions.native_select at 0x000001F907CD9F80>\n",
      "type <function Functions.native_type at 0x000001F907CDA020>\n",
      "tonumber <function Functions.native_tonumber at 0x000001F907CDA0C0>\n",
      "tostring <function Functions.native_tostring at 0x000001F907CDA160>\n",
      "rawget <function Functions.native_rawget at 0x000001F907CDA200>\n",
      "rawset <function Functions.native_rawset at 0x000001F907CDA2A0>\n",
      "setmetatable <function Functions.native_setmetatable at 0x000001F907CDA340>\n",
      "getmetatable <function Functions.native_getmetatable at 0x000001F907CDA3E0>\n",
      "pcall <function Functions.native_pcall at 0x000001F907CDA480>\n",
      "xpcall <function Functions.native_xpcall at 0x000001F907CDA520>\n",
      "print <bound method Evaluator.native_print of <lua.evaluator.Evaluator object at 0x000001F907C86510>>\n",
      "require <bound method Evaluator.native_require of <lua.evaluator.Evaluator object at 0x000001F907C86510>>\n",
      "coroutine Library(name='coroutine', attributes=[], methods=['create', 'resume', 'running', 'status', 'wrap', 'yield'])\n",
      "package Library(name='package', attributes=['loaded', 'path', 'cpath', 'preload'], methods=['loadlib', 'searchpath'])\n",
      "string Library(name='string', attributes=[], methods=['byte', 'char', 'find', 'format', 'gmatch', 'gsub', 'len', 'lower', 'match', 'rep', 'reverse', 'sub', 'upper'])\n",
      "table Library(name='table', attributes=[], methods=['insert', 'remove', 'sort', 'concat'])\n",
      "math Library(name='math', attributes=['pi', 'huge', 'maxinteger', 'mininteger', 'e', 'sqrt2'], methods=['abs', 'acos', 'asin', 'atan', 'atan2', 'ceil', 'cos', 'cosh', 'deg', 'exp', 'floor', 'fmod', 'frexp', 'ldexp', 'log', 'log10', 'max', 'min', 'modf', 'pow', 'rad', 'random', 'randomseed', 'sin', 'sinh', 'sqrt', 'tan', 'tanh'])\n",
      "io Library(name='io', attributes=[], methods=['close', 'flush', 'input', 'lines', 'open', 'output', 'popen', 'read', 'tmpfile', 'type', 'write'])\n",
      "os Library(name='os', attributes=[], methods=['clock', 'date', 'difftime', 'execute', 'exit', 'getenv', 'remove', 'rename', 'setlocale', 'time', 'tmpname'])\n",
      "debug Library(name='debug', attributes=[], methods=[])\n",
      "utf8 Library(name='utf8', attributes=[], methods=[])\n",
      "custom Library(name='custom', attributes=['version', 'doc'], methods=['print_python', 'add_five'])\n",
      "name John\n",
      "number 32\n"
     ]
    }
   ],
   "source": [
    "for key, value in interpreter.environment.items():\n",
    "    print(key, value)"
   ]
  },
  {
   "cell_type": "code",
   "execution_count": 6,
   "metadata": {},
   "outputs": [],
   "source": [
    "interpreter.clear_logs() # Clear the Lua console\n",
    "interpreter.reset_environment() # Reset all variables and functions defined in Lua context\n",
    "\n",
    "interpreter.reset() # Reset both Lua console and context"
   ]
  }
 ],
 "metadata": {
  "kernelspec": {
   "display_name": "Python 3",
   "language": "python",
   "name": "python3"
  },
  "language_info": {
   "codemirror_mode": {
    "name": "ipython",
    "version": 3
   },
   "file_extension": ".py",
   "mimetype": "text/x-python",
   "name": "python",
   "nbconvert_exporter": "python",
   "pygments_lexer": "ipython3",
   "version": "3.11.9"
  }
 },
 "nbformat": 4,
 "nbformat_minor": 2
}
